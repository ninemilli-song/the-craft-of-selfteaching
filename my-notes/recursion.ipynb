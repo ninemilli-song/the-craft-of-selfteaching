{
 "cells": [
  {
   "cell_type": "markdown",
   "metadata": {},
   "source": [
    "# 递归\n",
    "\n",
    "特征：\n",
    "\n",
    "> 1. 在 return 语句中返回的是自身的调用（或者是含有自身的表达式）\n",
    "> 2. 为了避免死循环，一定要有至少一个条件下返回的不再是自身调用……\n",
    "> 3. 递归过程中必须能够逐步达到退出条件……"
   ]
  },
  {
   "cell_type": "markdown",
   "metadata": {},
   "source": [
    "# 作用域\n",
    "\n",
    "全局变量（Global Variables）& 局部变量（Local Variables）\n",
    "\n",
    "规则：\n",
    "\n",
    "> * 在函数内部被赋值而后使用的，都是局部变量，它们的作用域是局部，无法被函数外的代码调用；\n",
    "> * 在所有函数之外被赋值而后开始使用的，是全局变量，它们的作用域是全局，在函数内外都可以被调用。\n",
    "\n",
    "原则：\n",
    "\n",
    "> * 在函数内部绝对不调用全局变量。即便是必须改变全局变量，也只能通过函数的返回值在函数外改变全局变量。\n",
    "> * 做事的原则：自己的事自己做，别人的事，最多通过自己的产出让他们自己去搞……"
   ]
  },
  {
   "cell_type": "code",
   "execution_count": null,
   "metadata": {},
   "outputs": [],
   "source": []
  }
 ],
 "metadata": {
  "kernelspec": {
   "display_name": "Python 3",
   "language": "python",
   "name": "python3"
  },
  "language_info": {
   "codemirror_mode": {
    "name": "ipython",
    "version": 3
   },
   "file_extension": ".py",
   "mimetype": "text/x-python",
   "name": "python",
   "nbconvert_exporter": "python",
   "pygments_lexer": "ipython3",
   "version": "3.7.3"
  }
 },
 "nbformat": 4,
 "nbformat_minor": 4
}
