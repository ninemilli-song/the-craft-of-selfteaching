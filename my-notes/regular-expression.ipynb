{
 "cells": [
  {
   "cell_type": "markdown",
   "metadata": {},
   "source": [
    "# 创建 Regex 对象"
   ]
  },
  {
   "cell_type": "code",
   "execution_count": 9,
   "metadata": {},
   "outputs": [
    {
     "data": {
      "text/plain": [
       "'415-555-4242'"
      ]
     },
     "execution_count": 9,
     "metadata": {},
     "output_type": "execute_result"
    }
   ],
   "source": [
    "import re\n",
    "\n",
    "# 创建 Regex 对象，向 compile 中传入原始字段串（r'...'形式）\n",
    "phoneNumRegex = re.compile(r'\\d\\d\\d-\\d\\d\\d-\\d\\d\\d\\d')\n",
    "\n",
    "# 匹配 Regex 对象\n",
    "# 查询结果保存在变量 mo中，如果匹配到结果返回 Match 对象，否则为空值 None\n",
    "mo = phoneNumRegex.search('My number is 415-555-4242.')\n",
    "\n",
    "# Match 对象的 group方法返回匹配结果\n",
    "mo.group()"
   ]
  },
  {
   "cell_type": "markdown",
   "metadata": {},
   "source": [
    "# 原始字符串 raw string\n",
    "\n",
    "字符串`'\\n'`表示换行字符，如果不使用原始字符串话就需要用`'\\\\n'`来表示`'\\n'`，因为`'\\'`表示转义字符，如果想要表示倒斜杠`（\\）`就在倒斜杠前加个转义符，即：`'\\\\'`"
   ]
  },
  {
   "cell_type": "markdown",
   "metadata": {},
   "source": [
    "可以理解为在原始字符串中，倒斜杠`\\`不具有转义的功能，它只是一个纯粹的字符"
   ]
  },
  {
   "cell_type": "markdown",
   "metadata": {},
   "source": [
    "# 操作符优先级\n",
    "\n",
    "| 排列 |         原子与操作符优先级      |（从高到低）|\n",
    "|---|-----------------------------------|------------------------|\n",
    "| 1 | 转义符号 (Escaping Symbol)               | `\\` |\n",
    "| 2 | 分组、捕获 (Grouping or Capturing)                          | `(...)` `(?:...)` `(?=...)` `(?!...)` `(?<=...)` `(?<!...)`     |\n",
    "| 3 | 数量 (Quantifiers)      | `a*` `a+` `a?` `a{n, m}` |\n",
    "| 4 | 序列与定位（Sequence and Anchor）| `abc` `^` `$` `\\b` `\\B`               |\n",
    "| 5 | 或（Alternation）| <code>a&#124;b&#124;c</code>                   |\n",
    "| 6 | 原子 (Atoms)                 | `a` `[^abc]` `\\t` `\\r` `\\n` `\\d` `\\D` `\\s` `\\S` `\\w` `\\W` `.` |"
   ]
  },
  {
   "cell_type": "markdown",
   "metadata": {},
   "source": [
    "# 分组操作符\n",
    "\n",
    "分组操作符决定 `group()`方法的返回结果\n",
    "\n",
    "group() 与 group(0) 作用相同返回匹配结果\n",
    "\n",
    "group(1) 返回第一个分组匹配结果，group(n) 返回第 n 个分组匹配的结果\n",
    "\n",
    "`groups()`方法返回所有分组组合而成的元组"
   ]
  },
  {
   "cell_type": "markdown",
   "metadata": {},
   "source": [
    "## 贪心匹配 vs 非贪心匹配\n",
    "\n"
   ]
  },
  {
   "cell_type": "code",
   "execution_count": 7,
   "metadata": {},
   "outputs": [
    {
     "data": {
      "text/plain": [
       "'HaHaHaHaHa'"
      ]
     },
     "execution_count": 7,
     "metadata": {},
     "output_type": "execute_result"
    }
   ],
   "source": [
    "#贪心模式\n",
    "\n",
    "import re\n",
    "haRegex = re.compile(r'(Ha){3,5}')\n",
    "mo = haRegex.search('HaHaHaHaHa')\n",
    "mo.group()"
   ]
  },
  {
   "cell_type": "markdown",
   "metadata": {},
   "source": [
    "为什么匹配的是'HaHaHaHaHa'，而不是'HaHaHa'?\n",
    "\n",
    "因为正则表达式默认是`‘贪心’`的，尽可能匹配最长的字符串。\n",
    "\n",
    "`‘非贪心’`模式就要在花括号后面跟着一个端问号。"
   ]
  },
  {
   "cell_type": "code",
   "execution_count": 6,
   "metadata": {},
   "outputs": [
    {
     "data": {
      "text/plain": [
       "'HaHaHa'"
      ]
     },
     "execution_count": 6,
     "metadata": {},
     "output_type": "execute_result"
    }
   ],
   "source": [
    "# 非贪心模式\n",
    "\n",
    "import re\n",
    "nongreedyHaRegex = re.compile(r'(Ha){3,5}?')\n",
    "mo = nongreedyHaRegex.search('HaHaHaHaHa')\n",
    "mo.group()"
   ]
  },
  {
   "cell_type": "markdown",
   "metadata": {},
   "source": [
    "# search() vs findall()\n",
    "\n",
    "search()返回 Match 对象，可以使用 group()和 groups()方法\n",
    "\n",
    "findall()返回字符串列表或元组列表\n",
    "\n",
    "> 1. 字符串列表：没有分组的正则表达式\n",
    "> 2. 元组列表：有分组的正则表达式，每个分组对应元组中的相应的字符串\n"
   ]
  },
  {
   "cell_type": "code",
   "execution_count": null,
   "metadata": {},
   "outputs": [],
   "source": []
  }
 ],
 "metadata": {
  "kernelspec": {
   "display_name": "Python 3",
   "language": "python",
   "name": "python3"
  },
  "language_info": {
   "codemirror_mode": {
    "name": "ipython",
    "version": 3
   },
   "file_extension": ".py",
   "mimetype": "text/x-python",
   "name": "python",
   "nbconvert_exporter": "python",
   "pygments_lexer": "ipython3",
   "version": "3.7.3"
  }
 },
 "nbformat": 4,
 "nbformat_minor": 4
}
