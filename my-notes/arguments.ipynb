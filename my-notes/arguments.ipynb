{
 "cells": [
  {
   "cell_type": "markdown",
   "metadata": {},
   "source": [
    "# 函数参数类型\n",
    "\n",
    "## 位置参数(Positition Arguments)\n",
    "\n",
    "\n",
    "\n",
    "## 可接收一系列值的位置参数(Arbitrary Position Arguments)\n",
    "\n",
    "`*`\n",
    "\n",
    "## 关键字参数(Keyword Arguments)\n",
    "\n",
    "\n",
    "## 可接收一系列值的关键字参数(Arbitrary Position Arguments)\n",
    "\n",
    "`**`"
   ]
  },
  {
   "cell_type": "code",
   "execution_count": null,
   "metadata": {},
   "outputs": [],
   "source": []
  },
  {
   "cell_type": "markdown",
   "metadata": {},
   "source": [
    "# Order of Arguments\n",
    "\n",
    "> 1. Position Arguments\n",
    "> 2. Arbitrary Position Arguments\n",
    "> 3. Keyword Arguments\n",
    "> 4. Arbitrary Keyword Arguments"
   ]
  },
  {
   "cell_type": "code",
   "execution_count": null,
   "metadata": {},
   "outputs": [],
   "source": []
  }
 ],
 "metadata": {
  "kernelspec": {
   "display_name": "Python 3",
   "language": "python",
   "name": "python3"
  },
  "language_info": {
   "codemirror_mode": {
    "name": "ipython",
    "version": 3
   },
   "file_extension": ".py",
   "mimetype": "text/x-python",
   "name": "python",
   "nbconvert_exporter": "python",
   "pygments_lexer": "ipython3",
   "version": "3.7.3"
  }
 },
 "nbformat": 4,
 "nbformat_minor": 4
}
